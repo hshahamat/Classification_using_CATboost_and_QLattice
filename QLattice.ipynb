{
  "nbformat": 4,
  "nbformat_minor": 0,
  "metadata": {
    "colab": {
      "name": "QLattice.ipynb",
      "provenance": [],
      "collapsed_sections": []
    },
    "kernelspec": {
      "name": "python3",
      "display_name": "Python 3"
    },
    "accelerator": "GPU"
  },
  "cells": [
    {
      "cell_type": "code",
      "metadata": {
        "id": "FxJ9oy_u5cxF",
        "outputId": "faf2f198-ddac-426b-d355-056bbadae31b",
        "colab": {
          "base_uri": "https://localhost:8080/",
          "height": 53
        }
      },
      "source": [
        "from google.colab import drive\n",
        "drive.mount('/content/drive', force_remount=True)\n",
        "data_path = \"drive/My Drive/_data/\"\n",
        "!ls \"drive/My Drive/_data/\""
      ],
      "execution_count": 1,
      "outputs": [
        {
          "output_type": "stream",
          "text": [
            "Mounted at /content/drive\n",
            "kddcup.data_10_percent\tkddcup.names\n"
          ],
          "name": "stdout"
        }
      ]
    },
    {
      "cell_type": "code",
      "metadata": {
        "id": "M9v1kEt3BTFz",
        "outputId": "5d1fc3e1-4654-4995-eec3-dfd7489ce799",
        "colab": {
          "base_uri": "https://localhost:8080/",
          "height": 36
        }
      },
      "source": [
        "# !cd \"drive/My Drive/msFardin/_data/\" && gunzip kddcup.data_10_percent.gz\n"
      ],
      "execution_count": null,
      "outputs": [
        {
          "output_type": "stream",
          "text": [
            "drive  sample_data\n"
          ],
          "name": "stdout"
        }
      ]
    },
    {
      "cell_type": "code",
      "metadata": {
        "id": "PL7PPhYD8NRB"
      },
      "source": [
        "import pandas as pd\n",
        "import numpy as np\n",
        "import os\n",
        "from datetime import datetime \n",
        "\n",
        "import matplotlib.pyplot as plt\n",
        "import matplotlib.gridspec as gridspec\n",
        "%matplotlib inline\n",
        "\n",
        "\n",
        "import sys\n",
        "sys.path.append('drive/My Drive/msFardin')\n",
        "\n",
        "\n",
        "try:\n",
        "  import feyn\n",
        "except:\n",
        "  !pip install feyn==1.3.3\n",
        "  import feyn"
      ],
      "execution_count": null,
      "outputs": []
    },
    {
      "cell_type": "code",
      "metadata": {
        "id": "DAZttOqRPZeg",
        "outputId": "b65dd794-9f58-4e4e-cdd0-8575697be26e",
        "colab": {
          "base_uri": "https://localhost:8080/",
          "height": 517
        }
      },
      "source": [
        "# ['http', 'smtp', 'finger', 'domain_u', 'auth', 'telnet', 'ftp',\n",
        "  # 'eco_i', 'ntp_u', 'ecr_i', 'other', 'private', 'pop_3', 'ftp_data',\n",
        "  # 'rje', 'time', 'mtp', 'link', 'remote_job', 'gopher', 'ssh',\n",
        "  # 'name', 'whois', 'domain', 'login', 'imap4', 'daytime', 'ctf',\n",
        "  # 'nntp', 'shell', 'IRC', 'nnsp', 'http_443', 'exec', 'printer',\n",
        "  # 'efs', 'courier', 'uucp', 'klogin', 'kshell', 'echo', 'discard',\n",
        "  # 'systat', 'supdup', 'iso_tsap', 'hostnames', 'csnet_ns', 'pop_2',\n",
        "  # 'sunrpc', 'uucp_path', 'netbios_ns', 'netbios_ssn', 'netbios_dgm',\n",
        "  # 'sql_net', 'vmnet', 'bgp', 'Z39_50', 'ldap', 'netstat', 'urh_i',\n",
        "  # 'X11', 'urp_i', 'pm_dump', 'tftp_u', 'tim_i', 'red_i']       \n",
        "\n",
        "\n",
        "selected_service = ['smtp', 'http']\n",
        "feature_mode = 2 #2 or  1\n",
        "\n",
        "\n",
        "with open(data_path+'kddcup.names', 'r') as infile:\n",
        "    kdd_names = infile.readlines()\n",
        "    kdd_cols = [x.split(':')[0] for x in kdd_names[1:]]\n",
        "\n",
        "kdd_cols.append('Class')\n",
        "data_file = data_path + \"kddcup.data_10_percent\"\n",
        "main_df = pd.read_csv(data_file, names = kdd_cols, header=None)\n",
        "print(len(main_df))\n",
        "print(len(main_df.columns))\n",
        "print(main_df.columns)\n",
        "main_df.head()\n",
        "# main_df.service.unique()\n"
      ],
      "execution_count": 4,
      "outputs": [
        {
          "output_type": "stream",
          "text": [
            "494021\n",
            "42\n",
            "Index(['duration', 'protocol_type', 'service', 'flag', 'src_bytes',\n",
            "       'dst_bytes', 'land', 'wrong_fragment', 'urgent', 'hot',\n",
            "       'num_failed_logins', 'logged_in', 'num_compromised', 'root_shell',\n",
            "       'su_attempted', 'num_root', 'num_file_creations', 'num_shells',\n",
            "       'num_access_files', 'num_outbound_cmds', 'is_host_login',\n",
            "       'is_guest_login', 'count', 'srv_count', 'serror_rate',\n",
            "       'srv_serror_rate', 'rerror_rate', 'srv_rerror_rate', 'same_srv_rate',\n",
            "       'diff_srv_rate', 'srv_diff_host_rate', 'dst_host_count',\n",
            "       'dst_host_srv_count', 'dst_host_same_srv_rate',\n",
            "       'dst_host_diff_srv_rate', 'dst_host_same_src_port_rate',\n",
            "       'dst_host_srv_diff_host_rate', 'dst_host_serror_rate',\n",
            "       'dst_host_srv_serror_rate', 'dst_host_rerror_rate',\n",
            "       'dst_host_srv_rerror_rate', 'Class'],\n",
            "      dtype='object')\n"
          ],
          "name": "stdout"
        },
        {
          "output_type": "execute_result",
          "data": {
            "text/html": [
              "<div>\n",
              "<style scoped>\n",
              "    .dataframe tbody tr th:only-of-type {\n",
              "        vertical-align: middle;\n",
              "    }\n",
              "\n",
              "    .dataframe tbody tr th {\n",
              "        vertical-align: top;\n",
              "    }\n",
              "\n",
              "    .dataframe thead th {\n",
              "        text-align: right;\n",
              "    }\n",
              "</style>\n",
              "<table border=\"1\" class=\"dataframe\">\n",
              "  <thead>\n",
              "    <tr style=\"text-align: right;\">\n",
              "      <th></th>\n",
              "      <th>duration</th>\n",
              "      <th>protocol_type</th>\n",
              "      <th>service</th>\n",
              "      <th>flag</th>\n",
              "      <th>src_bytes</th>\n",
              "      <th>dst_bytes</th>\n",
              "      <th>land</th>\n",
              "      <th>wrong_fragment</th>\n",
              "      <th>urgent</th>\n",
              "      <th>hot</th>\n",
              "      <th>num_failed_logins</th>\n",
              "      <th>logged_in</th>\n",
              "      <th>num_compromised</th>\n",
              "      <th>root_shell</th>\n",
              "      <th>su_attempted</th>\n",
              "      <th>num_root</th>\n",
              "      <th>num_file_creations</th>\n",
              "      <th>num_shells</th>\n",
              "      <th>num_access_files</th>\n",
              "      <th>num_outbound_cmds</th>\n",
              "      <th>is_host_login</th>\n",
              "      <th>is_guest_login</th>\n",
              "      <th>count</th>\n",
              "      <th>srv_count</th>\n",
              "      <th>serror_rate</th>\n",
              "      <th>srv_serror_rate</th>\n",
              "      <th>rerror_rate</th>\n",
              "      <th>srv_rerror_rate</th>\n",
              "      <th>same_srv_rate</th>\n",
              "      <th>diff_srv_rate</th>\n",
              "      <th>srv_diff_host_rate</th>\n",
              "      <th>dst_host_count</th>\n",
              "      <th>dst_host_srv_count</th>\n",
              "      <th>dst_host_same_srv_rate</th>\n",
              "      <th>dst_host_diff_srv_rate</th>\n",
              "      <th>dst_host_same_src_port_rate</th>\n",
              "      <th>dst_host_srv_diff_host_rate</th>\n",
              "      <th>dst_host_serror_rate</th>\n",
              "      <th>dst_host_srv_serror_rate</th>\n",
              "      <th>dst_host_rerror_rate</th>\n",
              "      <th>dst_host_srv_rerror_rate</th>\n",
              "      <th>Class</th>\n",
              "    </tr>\n",
              "  </thead>\n",
              "  <tbody>\n",
              "    <tr>\n",
              "      <th>0</th>\n",
              "      <td>0</td>\n",
              "      <td>tcp</td>\n",
              "      <td>http</td>\n",
              "      <td>SF</td>\n",
              "      <td>181</td>\n",
              "      <td>5450</td>\n",
              "      <td>0</td>\n",
              "      <td>0</td>\n",
              "      <td>0</td>\n",
              "      <td>0</td>\n",
              "      <td>0</td>\n",
              "      <td>1</td>\n",
              "      <td>0</td>\n",
              "      <td>0</td>\n",
              "      <td>0</td>\n",
              "      <td>0</td>\n",
              "      <td>0</td>\n",
              "      <td>0</td>\n",
              "      <td>0</td>\n",
              "      <td>0</td>\n",
              "      <td>0</td>\n",
              "      <td>0</td>\n",
              "      <td>8</td>\n",
              "      <td>8</td>\n",
              "      <td>0.0</td>\n",
              "      <td>0.0</td>\n",
              "      <td>0.0</td>\n",
              "      <td>0.0</td>\n",
              "      <td>1.0</td>\n",
              "      <td>0.0</td>\n",
              "      <td>0.0</td>\n",
              "      <td>9</td>\n",
              "      <td>9</td>\n",
              "      <td>1.0</td>\n",
              "      <td>0.0</td>\n",
              "      <td>0.11</td>\n",
              "      <td>0.0</td>\n",
              "      <td>0.0</td>\n",
              "      <td>0.0</td>\n",
              "      <td>0.0</td>\n",
              "      <td>0.0</td>\n",
              "      <td>normal.</td>\n",
              "    </tr>\n",
              "    <tr>\n",
              "      <th>1</th>\n",
              "      <td>0</td>\n",
              "      <td>tcp</td>\n",
              "      <td>http</td>\n",
              "      <td>SF</td>\n",
              "      <td>239</td>\n",
              "      <td>486</td>\n",
              "      <td>0</td>\n",
              "      <td>0</td>\n",
              "      <td>0</td>\n",
              "      <td>0</td>\n",
              "      <td>0</td>\n",
              "      <td>1</td>\n",
              "      <td>0</td>\n",
              "      <td>0</td>\n",
              "      <td>0</td>\n",
              "      <td>0</td>\n",
              "      <td>0</td>\n",
              "      <td>0</td>\n",
              "      <td>0</td>\n",
              "      <td>0</td>\n",
              "      <td>0</td>\n",
              "      <td>0</td>\n",
              "      <td>8</td>\n",
              "      <td>8</td>\n",
              "      <td>0.0</td>\n",
              "      <td>0.0</td>\n",
              "      <td>0.0</td>\n",
              "      <td>0.0</td>\n",
              "      <td>1.0</td>\n",
              "      <td>0.0</td>\n",
              "      <td>0.0</td>\n",
              "      <td>19</td>\n",
              "      <td>19</td>\n",
              "      <td>1.0</td>\n",
              "      <td>0.0</td>\n",
              "      <td>0.05</td>\n",
              "      <td>0.0</td>\n",
              "      <td>0.0</td>\n",
              "      <td>0.0</td>\n",
              "      <td>0.0</td>\n",
              "      <td>0.0</td>\n",
              "      <td>normal.</td>\n",
              "    </tr>\n",
              "    <tr>\n",
              "      <th>2</th>\n",
              "      <td>0</td>\n",
              "      <td>tcp</td>\n",
              "      <td>http</td>\n",
              "      <td>SF</td>\n",
              "      <td>235</td>\n",
              "      <td>1337</td>\n",
              "      <td>0</td>\n",
              "      <td>0</td>\n",
              "      <td>0</td>\n",
              "      <td>0</td>\n",
              "      <td>0</td>\n",
              "      <td>1</td>\n",
              "      <td>0</td>\n",
              "      <td>0</td>\n",
              "      <td>0</td>\n",
              "      <td>0</td>\n",
              "      <td>0</td>\n",
              "      <td>0</td>\n",
              "      <td>0</td>\n",
              "      <td>0</td>\n",
              "      <td>0</td>\n",
              "      <td>0</td>\n",
              "      <td>8</td>\n",
              "      <td>8</td>\n",
              "      <td>0.0</td>\n",
              "      <td>0.0</td>\n",
              "      <td>0.0</td>\n",
              "      <td>0.0</td>\n",
              "      <td>1.0</td>\n",
              "      <td>0.0</td>\n",
              "      <td>0.0</td>\n",
              "      <td>29</td>\n",
              "      <td>29</td>\n",
              "      <td>1.0</td>\n",
              "      <td>0.0</td>\n",
              "      <td>0.03</td>\n",
              "      <td>0.0</td>\n",
              "      <td>0.0</td>\n",
              "      <td>0.0</td>\n",
              "      <td>0.0</td>\n",
              "      <td>0.0</td>\n",
              "      <td>normal.</td>\n",
              "    </tr>\n",
              "    <tr>\n",
              "      <th>3</th>\n",
              "      <td>0</td>\n",
              "      <td>tcp</td>\n",
              "      <td>http</td>\n",
              "      <td>SF</td>\n",
              "      <td>219</td>\n",
              "      <td>1337</td>\n",
              "      <td>0</td>\n",
              "      <td>0</td>\n",
              "      <td>0</td>\n",
              "      <td>0</td>\n",
              "      <td>0</td>\n",
              "      <td>1</td>\n",
              "      <td>0</td>\n",
              "      <td>0</td>\n",
              "      <td>0</td>\n",
              "      <td>0</td>\n",
              "      <td>0</td>\n",
              "      <td>0</td>\n",
              "      <td>0</td>\n",
              "      <td>0</td>\n",
              "      <td>0</td>\n",
              "      <td>0</td>\n",
              "      <td>6</td>\n",
              "      <td>6</td>\n",
              "      <td>0.0</td>\n",
              "      <td>0.0</td>\n",
              "      <td>0.0</td>\n",
              "      <td>0.0</td>\n",
              "      <td>1.0</td>\n",
              "      <td>0.0</td>\n",
              "      <td>0.0</td>\n",
              "      <td>39</td>\n",
              "      <td>39</td>\n",
              "      <td>1.0</td>\n",
              "      <td>0.0</td>\n",
              "      <td>0.03</td>\n",
              "      <td>0.0</td>\n",
              "      <td>0.0</td>\n",
              "      <td>0.0</td>\n",
              "      <td>0.0</td>\n",
              "      <td>0.0</td>\n",
              "      <td>normal.</td>\n",
              "    </tr>\n",
              "    <tr>\n",
              "      <th>4</th>\n",
              "      <td>0</td>\n",
              "      <td>tcp</td>\n",
              "      <td>http</td>\n",
              "      <td>SF</td>\n",
              "      <td>217</td>\n",
              "      <td>2032</td>\n",
              "      <td>0</td>\n",
              "      <td>0</td>\n",
              "      <td>0</td>\n",
              "      <td>0</td>\n",
              "      <td>0</td>\n",
              "      <td>1</td>\n",
              "      <td>0</td>\n",
              "      <td>0</td>\n",
              "      <td>0</td>\n",
              "      <td>0</td>\n",
              "      <td>0</td>\n",
              "      <td>0</td>\n",
              "      <td>0</td>\n",
              "      <td>0</td>\n",
              "      <td>0</td>\n",
              "      <td>0</td>\n",
              "      <td>6</td>\n",
              "      <td>6</td>\n",
              "      <td>0.0</td>\n",
              "      <td>0.0</td>\n",
              "      <td>0.0</td>\n",
              "      <td>0.0</td>\n",
              "      <td>1.0</td>\n",
              "      <td>0.0</td>\n",
              "      <td>0.0</td>\n",
              "      <td>49</td>\n",
              "      <td>49</td>\n",
              "      <td>1.0</td>\n",
              "      <td>0.0</td>\n",
              "      <td>0.02</td>\n",
              "      <td>0.0</td>\n",
              "      <td>0.0</td>\n",
              "      <td>0.0</td>\n",
              "      <td>0.0</td>\n",
              "      <td>0.0</td>\n",
              "      <td>normal.</td>\n",
              "    </tr>\n",
              "  </tbody>\n",
              "</table>\n",
              "</div>"
            ],
            "text/plain": [
              "   duration protocol_type  ... dst_host_srv_rerror_rate    Class\n",
              "0         0           tcp  ...                      0.0  normal.\n",
              "1         0           tcp  ...                      0.0  normal.\n",
              "2         0           tcp  ...                      0.0  normal.\n",
              "3         0           tcp  ...                      0.0  normal.\n",
              "4         0           tcp  ...                      0.0  normal.\n",
              "\n",
              "[5 rows x 42 columns]"
            ]
          },
          "metadata": {
            "tags": []
          },
          "execution_count": 4
        }
      ]
    },
    {
      "cell_type": "markdown",
      "metadata": {
        "id": "CHlNk1bY0iRn"
      },
      "source": [
        "#Data Stream"
      ]
    },
    {
      "cell_type": "code",
      "metadata": {
        "id": "G9sWveIE0jxf",
        "outputId": "070cb4a5-6264-488d-a643-c7ca3204cdf4",
        "colab": {
          "base_uri": "https://localhost:8080/",
          "height": 310
        }
      },
      "source": [
        "from sklearn.utils import resample\n",
        "from sklearn.model_selection import train_test_split\n",
        "\n",
        "print(\"1:main_df.shape=>\",main_df.shape)\n",
        "df = main_df.loc[main_df['service'].isin(selected_service),:] \n",
        "print(\"2:df.shape=>\",df.shape)\n",
        "df = df.dropna() \n",
        "print(\"3:df.shape=>\",df.shape)\n",
        "\n",
        "\n",
        "if feature_mode==1:\n",
        "    selected_column = ['duration','flag','src_bytes',\n",
        "                      'dst_bytes','logged_in','count',\n",
        "                      'srv_count','srv_diff_host_rate','dst_host_count',\n",
        "                      'dst_host_srv_count','dst_host_same_src_port_rate','Class']\n",
        "else:\n",
        "    selected_column = []\n",
        "    for col in df.columns[:-1]:\n",
        "        if len(df[col].unique())>1:\n",
        "              selected_column.append(col)\n",
        "\n",
        "    selected_column.append('Class')\n",
        "\n",
        "df = df[selected_column]\n",
        "\n",
        "types = {}\n",
        "for var in df.columns[:-1]:\n",
        "    if df[var].dtype == 'object':\n",
        "        types[var] = 'categorical'\n",
        "\n",
        "# for col in df.columns[:-1]:\n",
        "#     if df[col].dtype == 'object':\n",
        "#         df[col] = (pd.factorize(df[col],sort=True)[0]).astype(np.int)\n",
        "# # print(df.dtypes)\n",
        "\n",
        "\n",
        "from collections import Counter\n",
        "print('Labels=>',df.Class.unique())\n",
        "print('Labels Histogram=>',Counter(df.Class))\n",
        "\n",
        "\n",
        "df.Class[df.Class!='normal.']='1'\n",
        "df.Class[df.Class=='normal.']='0'\n",
        "print('Binary Labels Histogram=>',Counter(df.Class))\n",
        "\n",
        "df.Class=df.Class.astype(np.int)\n",
        "\n",
        "train = df.iloc[:int(len(df)*0.7),:]\n",
        "test = df.iloc[int(len(df)*0.7):,:]\n",
        "\n",
        "print(\"Train.samples=>\",len(train))\n",
        "print(\"Test.shape=>\",len(test))\n",
        "\n",
        "\n",
        "# x_train=train.drop(['Class'],axis=1)\n",
        "# y_train=train['Class']\n",
        "\n",
        "# x_test=test.drop(['Class'],axis=1)\n",
        "# y_test=test['Class']\n",
        "\n",
        "# print(x_train.shape,y_train.shape,x_test.shape,y_test.shape)\n",
        "# print((y_test==1).sum())\n",
        "# print((y_test==0).sum())\n",
        "\n",
        "# x_test = pd.concat([x_train,x_test])\n",
        "# y_test = pd.concat([y_train,y_test])\n"
      ],
      "execution_count": 7,
      "outputs": [
        {
          "output_type": "stream",
          "text": [
            "1:main_df.shape=> (494021, 42)\n",
            "2:df.shape=> (74016, 42)\n",
            "3:df.shape=> (74016, 42)\n",
            "Labels=> ['normal.' 'ipsweep.' 'back.' 'phf.' 'neptune.' 'portsweep.' 'satan.']\n",
            "Labels Histogram=> Counter({'normal.': 71484, 'back.': 2203, 'neptune.': 312, 'portsweep.': 5, 'ipsweep.': 4, 'phf.': 4, 'satan.': 4})\n",
            "Binary Labels Histogram=> Counter({'0': 71484, '1': 2532})\n",
            "Train.samples=> 51811\n",
            "Test.shape=> 22205\n",
            "(51811, 32) (51811,) (22205, 32) (22205,)\n",
            "479\n",
            "21726\n"
          ],
          "name": "stdout"
        },
        {
          "output_type": "stream",
          "text": [
            "/usr/local/lib/python3.6/dist-packages/ipykernel_launcher.py:43: SettingWithCopyWarning: \n",
            "A value is trying to be set on a copy of a slice from a DataFrame\n",
            "\n",
            "See the caveats in the documentation: https://pandas.pydata.org/pandas-docs/stable/user_guide/indexing.html#returning-a-view-versus-a-copy\n"
          ],
          "name": "stderr"
        }
      ]
    },
    {
      "cell_type": "markdown",
      "metadata": {
        "id": "M2g1vmFT05AU"
      },
      "source": [
        "#QLattice on Data Stream"
      ]
    },
    {
      "cell_type": "code",
      "metadata": {
        "id": "hUA9wAr308Ky",
        "outputId": "5a7e25ec-73ca-4dfa-9172-821b2e2252f6",
        "colab": {
          "base_uri": "https://localhost:8080/",
          "height": 475
        }
      },
      "source": [
        "# url = \"<URL to your qlattice>\", api_token=\"<Your API token>\"\n",
        "ql = feyn.QLattice(url=\"https://qlattice.abzu.ai/qlattice-5ee40fc0\",\n",
        "                   api_token=\"1132a32ab0ef4b3e8cb6fa4fa4616c91\")\n",
        "\n",
        "ql.reset()\n",
        "\n",
        "target = 'Class'\n",
        "\n",
        "qgraph = ql.get_qgraph(train.columns, target, max_depth=4, stypes=types) \n",
        "# qgraph.head(3)\n",
        "\n",
        "\n",
        "# Defining the number of loops/updates and epochs\n",
        "nloops = 1\n",
        "nepochs = 2\n",
        "\n",
        "# And training finally begins\n",
        "for _epoch in range(nepochs):\n",
        "    for loop in range(nloops): \n",
        "        qgraph.fit(train, \n",
        "                  loss_function='squared_error', \n",
        "                  threads=8, show='graph') \n",
        "        _train = resample(train, \n",
        "                replace=False,    # sample without replacement\n",
        "                n_samples=5000,     # to match minority class\n",
        "                random_state=123) # reproducible results\n",
        "\n",
        "        best = qgraph.sort(_train, loss_function='squared_error')[0] \n",
        "        \n",
        "        ql.update(best) \n",
        "\n",
        "qgraph.head(1)\n"
      ],
      "execution_count": 25,
      "outputs": [
        {
          "output_type": "display_data",
          "data": {
            "text/plain": [
              "<IPython.core.display.SVG object>"
            ],
            "image/svg+xml": "<svg baseProfile=\"tiny\" height=\"135.0\" version=\"1.2\" width=\"691\" xmlns=\"http://www.w3.org/2000/svg\" xmlns:ev=\"http://www.w3.org/2001/xml-events\" xmlns:xlink=\"http://www.w3.org/1999/xlink\"><defs/><rect fill=\"#00F082\" height=\"30\" stroke=\"#808080\" stroke-width=\"1\" width=\"80\" x=\"1\" y=\"35.0\"><title>(7, -1, -1)\nw: 0.5000\nbias: -1.0000</title></rect><text fill=\"#202020\" font-family=\"monospace\" font-size=\"11\" text-anchor=\"middle\" x=\"41.0\" y=\"54.0\">num_compro..</text><rect fill=\"#FAFAFA\" height=\"30\" stroke=\"#ff1ec8\" stroke-width=\"1\" width=\"80\" x=\"121\" y=\"35.0\"><title>(19, 0, 3)\nw: -3.81\nbias: -3.58</title></rect><text fill=\"#202020\" font-family=\"monospace\" font-size=\"11\" text-anchor=\"middle\" x=\"161.0\" y=\"54.0\">tanh</text><line stroke=\"#c0c0c0\" x1=\"81\" x2=\"121\" y1=\"50.0\" y2=\"50.0\"/><text fill=\"#202020\" font-family=\"monospace\" font-size=\"7\" text-anchor=\"middle\" x=\"126\" y=\"53.0\">x0</text><rect fill=\"#00F082\" height=\"30\" stroke=\"#808080\" stroke-width=\"1\" width=\"80\" x=\"241\" y=\"5.0\"><title>(2, -1, -1)\nflag\ncategorical with 8 values</title></rect><text fill=\"#202020\" font-family=\"monospace\" font-size=\"11\" text-anchor=\"middle\" x=\"281.0\" y=\"24.0\">flag</text><rect fill=\"#FAFAFA\" height=\"30\" stroke=\"#ff1ec8\" stroke-width=\"1\" width=\"80\" x=\"241\" y=\"65.0\"><title>(0, 1, 4)\nx0: -0.26\nk: 6.60</title></rect><text fill=\"#202020\" font-family=\"monospace\" font-size=\"11\" text-anchor=\"middle\" x=\"281.0\" y=\"84.0\">sine</text><line stroke=\"#c0c0c0\" x1=\"201\" x2=\"241\" y1=\"50.0\" y2=\"80.0\"/><text fill=\"#202020\" font-family=\"monospace\" font-size=\"7\" text-anchor=\"middle\" x=\"246\" y=\"83.0\">x0</text><rect fill=\"#FAFAFA\" height=\"30\" stroke=\"#ff1ec8\" stroke-width=\"1\" width=\"80\" x=\"361\" y=\"35.0\"><title>(1, 0, 5)\nw0: -2.54\nw1: -4.62\nbias: 0.03</title></rect><text fill=\"#202020\" font-family=\"monospace\" font-size=\"11\" text-anchor=\"middle\" x=\"401.0\" y=\"54.0\">linear</text><line stroke=\"#c0c0c0\" x1=\"321\" x2=\"361\" y1=\"80.0\" y2=\"59.0\"/><text fill=\"#202020\" font-family=\"monospace\" font-size=\"7\" text-anchor=\"middle\" x=\"366\" y=\"62.0\">x0</text><line stroke=\"#c0c0c0\" x1=\"321\" x2=\"361\" y1=\"20.0\" y2=\"41.0\"/><text fill=\"#202020\" font-family=\"monospace\" font-size=\"7\" text-anchor=\"middle\" x=\"366\" y=\"44.0\">x1</text><rect fill=\"#FAFAFA\" height=\"30\" stroke=\"#ff1ec8\" stroke-width=\"1\" width=\"80\" x=\"481\" y=\"35.0\"><title>(2, 0, 6)\nw: 2.38\nbias: 5.06</title></rect><text fill=\"#202020\" font-family=\"monospace\" font-size=\"11\" text-anchor=\"middle\" x=\"521.0\" y=\"54.0\">tanh</text><line stroke=\"#c0c0c0\" x1=\"441\" x2=\"481\" y1=\"50.0\" y2=\"50.0\"/><text fill=\"#202020\" font-family=\"monospace\" font-size=\"7\" text-anchor=\"middle\" x=\"486\" y=\"53.0\">x0</text><rect fill=\"#00F082\" height=\"30\" stroke=\"#808080\" stroke-width=\"1\" width=\"80\" x=\"601\" y=\"35.0\"><title>(3, 1, 6)\nw: 0.5100\nbias: 0.4922</title></rect><text fill=\"#202020\" font-family=\"monospace\" font-size=\"11\" text-anchor=\"middle\" x=\"641.0\" y=\"54.0\">Class</text><line stroke=\"#c0c0c0\" x1=\"561\" x2=\"601\" y1=\"50.0\" y2=\"50.0\"/><text fill=\"#202020\" font-family=\"monospace\" font-size=\"7\" text-anchor=\"middle\" x=\"606\" y=\"53.0\">x0</text><text fill=\"#202020\" font-family=\"monospace\" font-size=\"12\" x=\"0\" y=\"123.0\">Fitting 2: 100% completed. Best loss so far: 0.000799</text><text fill=\"#202020\" font-family=\"monospace\" font-size=\"11\" text-anchor=\"middle\" x=\"641.0\" y=\"77.0\">Loss: 7.99E-04</text></svg>"
          },
          "metadata": {
            "tags": []
          }
        },
        {
          "output_type": "display_data",
          "data": {
            "text/plain": [
              "_feyn.Graph (16 interactions)"
            ],
            "image/svg+xml": "<?xml version=\"1.0\" encoding=\"utf-8\" ?>\n<svg baseProfile=\"tiny\" height=\"315.0\" version=\"1.2\" width=\"691\" xmlns=\"http://www.w3.org/2000/svg\" xmlns:ev=\"http://www.w3.org/2001/xml-events\" xmlns:xlink=\"http://www.w3.org/1999/xlink\"><defs /><rect fill=\"#00F082\" height=\"30\" stroke=\"#808080\" stroke-width=\"1\" width=\"80\" x=\"1\" y=\"125.0\"><title>(3, -1, -1)\nw: 0.0000\nbias: -1.0000</title></rect><text fill=\"#202020\" font-family=\"monospace\" font-size=\"11\" text-anchor=\"middle\" x=\"41.0\" y=\"144.0\">src_bytes</text><rect fill=\"#00F082\" height=\"30\" stroke=\"#808080\" stroke-width=\"1\" width=\"80\" x=\"1\" y=\"185.0\"><title>(22, -1, -1)\nw: 0.0078\nbias: -1.0000</title></rect><text fill=\"#202020\" font-family=\"monospace\" font-size=\"11\" text-anchor=\"middle\" x=\"41.0\" y=\"204.0\">dst_host_c..</text><rect fill=\"#00F082\" height=\"30\" stroke=\"#808080\" stroke-width=\"1\" width=\"80\" x=\"1\" y=\"5.0\"><title>(21, -1, -1)\nw: 2.0000\nbias: -1.0000</title></rect><text fill=\"#202020\" font-family=\"monospace\" font-size=\"11\" text-anchor=\"middle\" x=\"41.0\" y=\"24.0\">srv_diff_h..</text><rect fill=\"#00F082\" height=\"30\" stroke=\"#808080\" stroke-width=\"1\" width=\"80\" x=\"1\" y=\"65.0\"><title>(25, -1, -1)\nw: 2.0000\nbias: -1.0000</title></rect><text fill=\"#202020\" font-family=\"monospace\" font-size=\"11\" text-anchor=\"middle\" x=\"41.0\" y=\"84.0\">dst_host_d..</text><rect fill=\"#00F082\" height=\"30\" stroke=\"#808080\" stroke-width=\"1\" width=\"80\" x=\"1\" y=\"245.0\"><title>(16, -1, -1)\nw: 2.0000\nbias: -1.0000</title></rect><text fill=\"#202020\" font-family=\"monospace\" font-size=\"11\" text-anchor=\"middle\" x=\"41.0\" y=\"264.0\">srv_serror..</text><rect fill=\"#FAFAFA\" height=\"30\" stroke=\"#ff1ec8\" stroke-width=\"1\" width=\"80\" x=\"121\" y=\"155.0\"><title>(10, 1, 2)\nw0: -0.07\nw1: -3.83\nbias: -0.96</title></rect><text fill=\"#202020\" font-family=\"monospace\" font-size=\"11\" text-anchor=\"middle\" x=\"161.0\" y=\"174.0\">tanh</text><line stroke=\"#c0c0c0\" x1=\"81\" x2=\"121\" y1=\"200.0\" y2=\"179.0\" /><text fill=\"#202020\" font-family=\"monospace\" font-size=\"7\" text-anchor=\"middle\" x=\"126\" y=\"182.0\">x0</text><line stroke=\"#c0c0c0\" x1=\"81\" x2=\"121\" y1=\"140.0\" y2=\"161.0\" /><text fill=\"#202020\" font-family=\"monospace\" font-size=\"7\" text-anchor=\"middle\" x=\"126\" y=\"164.0\">x1</text><rect fill=\"#FAFAFA\" height=\"30\" stroke=\"#ff1ec8\" stroke-width=\"1\" width=\"80\" x=\"121\" y=\"35.0\"><title>(10, 1, 4)\ncenter: 0.36\nwidth: 0.15</title></rect><text fill=\"#202020\" font-family=\"monospace\" font-size=\"11\" text-anchor=\"middle\" x=\"161.0\" y=\"54.0\">gaussian</text><line stroke=\"#c0c0c0\" x1=\"81\" x2=\"121\" y1=\"20.0\" y2=\"50.0\" /><text fill=\"#202020\" font-family=\"monospace\" font-size=\"7\" text-anchor=\"middle\" x=\"126\" y=\"53.0\">x0</text><rect fill=\"#FAFAFA\" height=\"30\" stroke=\"#ff1ec8\" stroke-width=\"1\" width=\"80\" x=\"121\" y=\"95.0\"><title>(10, 0, 5)\ncenter: 0.38\nwidth: 0.00</title></rect><text fill=\"#202020\" font-family=\"monospace\" font-size=\"11\" text-anchor=\"middle\" x=\"161.0\" y=\"114.0\">gaussian</text><line stroke=\"#c0c0c0\" x1=\"81\" x2=\"121\" y1=\"80.0\" y2=\"110.0\" /><text fill=\"#202020\" font-family=\"monospace\" font-size=\"7\" text-anchor=\"middle\" x=\"126\" y=\"113.0\">x0</text><rect fill=\"#FAFAFA\" height=\"30\" stroke=\"#ff1ec8\" stroke-width=\"1\" width=\"80\" x=\"121\" y=\"215.0\"><title>(10, 1, 1)\ncenter: 0.99, 0.92\nwidth: 0.27, 0.46</title></rect><text fill=\"#202020\" font-family=\"monospace\" font-size=\"11\" text-anchor=\"middle\" x=\"161.0\" y=\"234.0\">gaussian</text><line stroke=\"#c0c0c0\" x1=\"81\" x2=\"121\" y1=\"260.0\" y2=\"239.0\" /><text fill=\"#202020\" font-family=\"monospace\" font-size=\"7\" text-anchor=\"middle\" x=\"126\" y=\"242.0\">x0</text><line stroke=\"#c0c0c0\" x1=\"81\" x2=\"121\" y1=\"200.0\" y2=\"221.0\" /><text fill=\"#202020\" font-family=\"monospace\" font-size=\"7\" text-anchor=\"middle\" x=\"126\" y=\"224.0\">x1</text><rect fill=\"#FAFAFA\" height=\"30\" stroke=\"#ff1ec8\" stroke-width=\"1\" width=\"80\" x=\"241\" y=\"65.0\"><title>(11, 1, 3)\nx0: -0.04\nk: 9.30</title></rect><text fill=\"#202020\" font-family=\"monospace\" font-size=\"11\" text-anchor=\"middle\" x=\"281.0\" y=\"84.0\">sine</text><line stroke=\"#c0c0c0\" x1=\"201\" x2=\"241\" y1=\"170.0\" y2=\"80.0\" /><text fill=\"#202020\" font-family=\"monospace\" font-size=\"7\" text-anchor=\"middle\" x=\"246\" y=\"83.0\">x0</text><rect fill=\"#FAFAFA\" height=\"30\" stroke=\"#ff1ec8\" stroke-width=\"1\" width=\"80\" x=\"241\" y=\"125.0\"><title>(11, 1, 4)\nw0: 0.39\nw1: 0.07\nbias: 0.22</title></rect><text fill=\"#202020\" font-family=\"monospace\" font-size=\"11\" text-anchor=\"middle\" x=\"281.0\" y=\"144.0\">tanh</text><line stroke=\"#c0c0c0\" x1=\"201\" x2=\"241\" y1=\"110.0\" y2=\"149.0\" /><text fill=\"#202020\" font-family=\"monospace\" font-size=\"7\" text-anchor=\"middle\" x=\"246\" y=\"152.0\">x0</text><line stroke=\"#c0c0c0\" x1=\"201\" x2=\"241\" y1=\"50.0\" y2=\"131.0\" /><text fill=\"#202020\" font-family=\"monospace\" font-size=\"7\" text-anchor=\"middle\" x=\"246\" y=\"134.0\">x1</text><rect fill=\"#FAFAFA\" height=\"30\" stroke=\"#ff1ec8\" stroke-width=\"1\" width=\"80\" x=\"241\" y=\"185.0\"><title>(11, 0, 2)\ncenter: 0.84, 0.93\nwidth: 0.38, 0.44</title></rect><text fill=\"#202020\" font-family=\"monospace\" font-size=\"11\" text-anchor=\"middle\" x=\"281.0\" y=\"204.0\">gaussian</text><line stroke=\"#c0c0c0\" x1=\"201\" x2=\"241\" y1=\"230.0\" y2=\"209.0\" /><text fill=\"#202020\" font-family=\"monospace\" font-size=\"7\" text-anchor=\"middle\" x=\"246\" y=\"212.0\">x0</text><line stroke=\"#c0c0c0\" x1=\"201\" x2=\"241\" y1=\"170.0\" y2=\"191.0\" /><text fill=\"#202020\" font-family=\"monospace\" font-size=\"7\" text-anchor=\"middle\" x=\"246\" y=\"194.0\">x1</text><rect fill=\"#FAFAFA\" height=\"30\" stroke=\"#ff1ec8\" stroke-width=\"1\" width=\"80\" x=\"361\" y=\"95.0\"><title>(12, 0, 3)\ncenter: 0.25, 0.13\nwidth: 0.21, 0.14</title></rect><text fill=\"#202020\" font-family=\"monospace\" font-size=\"11\" text-anchor=\"middle\" x=\"401.0\" y=\"114.0\">gaussian</text><line stroke=\"#c0c0c0\" x1=\"321\" x2=\"361\" y1=\"140.0\" y2=\"119.0\" /><text fill=\"#202020\" font-family=\"monospace\" font-size=\"7\" text-anchor=\"middle\" x=\"366\" y=\"122.0\">x0</text><line stroke=\"#c0c0c0\" x1=\"321\" x2=\"361\" y1=\"80.0\" y2=\"101.0\" /><text fill=\"#202020\" font-family=\"monospace\" font-size=\"7\" text-anchor=\"middle\" x=\"366\" y=\"104.0\">x1</text><rect fill=\"#FAFAFA\" height=\"30\" stroke=\"#ff1ec8\" stroke-width=\"1\" width=\"80\" x=\"361\" y=\"155.0\"><title>(12, 19, 2)\nw: -5.05\nbias: -0.20</title></rect><text fill=\"#202020\" font-family=\"monospace\" font-size=\"11\" text-anchor=\"middle\" x=\"401.0\" y=\"174.0\">linear</text><line stroke=\"#c0c0c0\" x1=\"321\" x2=\"361\" y1=\"200.0\" y2=\"170.0\" /><text fill=\"#202020\" font-family=\"monospace\" font-size=\"7\" text-anchor=\"middle\" x=\"366\" y=\"173.0\">x0</text><rect fill=\"#FAFAFA\" height=\"30\" stroke=\"#ff1ec8\" stroke-width=\"1\" width=\"80\" x=\"481\" y=\"125.0\"><title>(13, 0, 1)\nw0: -4.61\nw1: -5.46\nbias: -2.48</title></rect><text fill=\"#202020\" font-family=\"monospace\" font-size=\"11\" text-anchor=\"middle\" x=\"521.0\" y=\"144.0\">tanh</text><line stroke=\"#c0c0c0\" x1=\"441\" x2=\"481\" y1=\"170.0\" y2=\"149.0\" /><text fill=\"#202020\" font-family=\"monospace\" font-size=\"7\" text-anchor=\"middle\" x=\"486\" y=\"152.0\">x0</text><line stroke=\"#c0c0c0\" x1=\"441\" x2=\"481\" y1=\"110.0\" y2=\"131.0\" /><text fill=\"#202020\" font-family=\"monospace\" font-size=\"7\" text-anchor=\"middle\" x=\"486\" y=\"134.0\">x1</text><rect fill=\"#00F082\" height=\"30\" stroke=\"#808080\" stroke-width=\"1\" width=\"80\" x=\"601\" y=\"125.0\"><title>(14, 0, 0)\nw: 0.5127\nbias: 0.5103</title></rect><text fill=\"#202020\" font-family=\"monospace\" font-size=\"11\" text-anchor=\"middle\" x=\"641.0\" y=\"144.0\">Class</text><line stroke=\"#c0c0c0\" x1=\"561\" x2=\"601\" y1=\"140.0\" y2=\"140.0\" /><text fill=\"#202020\" font-family=\"monospace\" font-size=\"7\" text-anchor=\"middle\" x=\"606\" y=\"143.0\">x0</text><text fill=\"#202020\" font-family=\"monospace\" font-size=\"11\" text-anchor=\"middle\" x=\"641.0\" y=\"167.0\">Loss: 5.90E-04</text></svg>"
          },
          "metadata": {
            "tags": []
          }
        }
      ]
    },
    {
      "cell_type": "code",
      "metadata": {
        "id": "qLe707zi2fVp",
        "outputId": "94766cf1-4dd2-475b-ee7f-af85a04a0ac0",
        "colab": {
          "base_uri": "https://localhost:8080/",
          "height": 565
        }
      },
      "source": [
        "best = qgraph.sort(_train, loss_function='squared_error')[0]\n",
        "_batch_size = 4096\n",
        "\n",
        "res_Class = []\n",
        "\n",
        "new_train = train.copy()\n",
        "for idx in range(0,len(test),_batch_size):\n",
        "\n",
        "    i_min = idx\n",
        "    i_max = idx + _batch_size\n",
        "    i_max = np.min([i_max,len(x_test)])\n",
        "    # print(i_min,i_max)\n",
        "    data_batch = test.iloc[i_min:i_max,:]\n",
        "    res_Class.extend(best.predict(data_batch))\n",
        "\n",
        "    new_train = resample(new_train, \n",
        "                replace=False,    # sample without replacement\n",
        "                n_samples=5000,     \n",
        "                random_state=123) # reproducible results\n",
        "\n",
        "    new_train = pd.concat([new_train, data_batch])\n",
        "    qgraph.fit(new_train, \n",
        "          loss_function='squared_error', \n",
        "          threads=8, show='graph')\n",
        "    best = qgraph.sort(new_train, loss_function='squared_error')[0]        \n",
        "    ql.update(best)\n",
        "\n",
        "\n",
        "res_Class =  np.array(res_Class)\n",
        "\n",
        "threshold = 0.5\n",
        "y_pred = np.where(res_Class > threshold, True, False)\n",
        "y_true = test[target].astype(bool)\n",
        "\n",
        "from sklearn.metrics import confusion_matrix\n",
        "tn, fp, fn, tp = confusion_matrix(y_true, y_pred).ravel()\n",
        "Accuracy = (tp + tn) / (tp + fp + fn + tn)\n",
        "ACC = Accuracy.sum()\n",
        "print('Confusion matrix(test):\\n{}'.format(confusion_matrix(y_true, y_pred)))\n",
        "print(\"Accuracy\", ACC)\n",
        "Precision = tp/(tp+fp)\n",
        "print(\"Precision\", Precision)\n",
        "Recall = tp/(tp+fn)\n",
        "print(\"Recall\",Recall)"
      ],
      "execution_count": 26,
      "outputs": [
        {
          "output_type": "display_data",
          "data": {
            "text/plain": [
              "<IPython.core.display.SVG object>"
            ],
            "image/svg+xml": "<svg baseProfile=\"tiny\" height=\"435.0\" version=\"1.2\" width=\"691\" xmlns=\"http://www.w3.org/2000/svg\" xmlns:ev=\"http://www.w3.org/2001/xml-events\" xmlns:xlink=\"http://www.w3.org/1999/xlink\"><defs/><rect fill=\"#00F082\" height=\"30\" stroke=\"#808080\" stroke-width=\"1\" width=\"80\" x=\"1\" y=\"5.0\"><title>(3, -1, -1)\nw: 0.0000\nbias: -1.0000</title></rect><text fill=\"#202020\" font-family=\"monospace\" font-size=\"11\" text-anchor=\"middle\" x=\"41.0\" y=\"24.0\">src_bytes</text><rect fill=\"#00F082\" height=\"30\" stroke=\"#808080\" stroke-width=\"1\" width=\"80\" x=\"1\" y=\"65.0\"><title>(22, -1, -1)\nw: 0.0079\nbias: -1.0079</title></rect><text fill=\"#202020\" font-family=\"monospace\" font-size=\"11\" text-anchor=\"middle\" x=\"41.0\" y=\"84.0\">dst_host_c..</text><rect fill=\"#00F082\" height=\"30\" stroke=\"#808080\" stroke-width=\"1\" width=\"80\" x=\"1\" y=\"125.0\"><title>(21, -1, -1)\nw: 2.0000\nbias: -1.0000</title></rect><text fill=\"#202020\" font-family=\"monospace\" font-size=\"11\" text-anchor=\"middle\" x=\"41.0\" y=\"144.0\">srv_diff_h..</text><rect fill=\"#00F082\" height=\"30\" stroke=\"#808080\" stroke-width=\"1\" width=\"80\" x=\"1\" y=\"185.0\"><title>(13, -1, -1)\nw: 0.0039\nbias: -1.0039</title></rect><text fill=\"#202020\" font-family=\"monospace\" font-size=\"11\" text-anchor=\"middle\" x=\"41.0\" y=\"204.0\">count</text><rect fill=\"#00F082\" height=\"30\" stroke=\"#808080\" stroke-width=\"1\" width=\"80\" x=\"1\" y=\"245.0\"><title>(15, -1, -1)\nw: 2.0000\nbias: -1.0000</title></rect><text fill=\"#202020\" font-family=\"monospace\" font-size=\"11\" text-anchor=\"middle\" x=\"41.0\" y=\"264.0\">serror_rat..</text><rect fill=\"#00F082\" height=\"30\" stroke=\"#808080\" stroke-width=\"1\" width=\"80\" x=\"1\" y=\"305.0\"><title>(9, -1, -1)\nw: 2.0000\nbias: -1.0000</title></rect><text fill=\"#202020\" font-family=\"monospace\" font-size=\"11\" text-anchor=\"middle\" x=\"41.0\" y=\"324.0\">su_attempt..</text><rect fill=\"#00F082\" height=\"30\" stroke=\"#808080\" stroke-width=\"1\" width=\"80\" x=\"1\" y=\"365.0\"><title>(7, -1, -1)\nw: 0.5000\nbias: -1.0000</title></rect><text fill=\"#202020\" font-family=\"monospace\" font-size=\"11\" text-anchor=\"middle\" x=\"41.0\" y=\"384.0\">num_compro..</text><rect fill=\"#FAFAFA\" height=\"30\" stroke=\"#ff1ec8\" stroke-width=\"1\" width=\"80\" x=\"121\" y=\"65.0\"><title>(10, 1, 2)\nw0: -0.08\nw1: -4.95\nbias: -1.27</title></rect><text fill=\"#202020\" font-family=\"monospace\" font-size=\"11\" text-anchor=\"middle\" x=\"161.0\" y=\"84.0\">tanh</text><line stroke=\"#c0c0c0\" x1=\"81\" x2=\"121\" y1=\"80.0\" y2=\"89.0\"/><text fill=\"#202020\" font-family=\"monospace\" font-size=\"7\" text-anchor=\"middle\" x=\"126\" y=\"92.0\">x0</text><line stroke=\"#c0c0c0\" x1=\"81\" x2=\"121\" y1=\"20.0\" y2=\"71.0\"/><text fill=\"#202020\" font-family=\"monospace\" font-size=\"7\" text-anchor=\"middle\" x=\"126\" y=\"74.0\">x1</text><rect fill=\"#FAFAFA\" height=\"30\" stroke=\"#ff1ec8\" stroke-width=\"1\" width=\"80\" x=\"121\" y=\"125.0\"><title>(10, 1, 4)\ncenter: 0.36\nwidth: 0.15</title></rect><text fill=\"#202020\" font-family=\"monospace\" font-size=\"11\" text-anchor=\"middle\" x=\"161.0\" y=\"144.0\">gaussian</text><line stroke=\"#c0c0c0\" x1=\"81\" x2=\"121\" y1=\"140.0\" y2=\"140.0\"/><text fill=\"#202020\" font-family=\"monospace\" font-size=\"7\" text-anchor=\"middle\" x=\"126\" y=\"143.0\">x0</text><rect fill=\"#FAFAFA\" height=\"30\" stroke=\"#ff1ec8\" stroke-width=\"1\" width=\"80\" x=\"121\" y=\"185.0\"><title>(10, 0, 3)\nw: -0.47\nbias: -0.09</title></rect><text fill=\"#202020\" font-family=\"monospace\" font-size=\"11\" text-anchor=\"middle\" x=\"161.0\" y=\"204.0\">linear</text><line stroke=\"#c0c0c0\" x1=\"81\" x2=\"121\" y1=\"200.0\" y2=\"200.0\"/><text fill=\"#202020\" font-family=\"monospace\" font-size=\"7\" text-anchor=\"middle\" x=\"126\" y=\"203.0\">x0</text><rect fill=\"#FAFAFA\" height=\"30\" stroke=\"#ff1ec8\" stroke-width=\"1\" width=\"80\" x=\"121\" y=\"245.0\"><title>(10, 1, 3)\nw: 1.82\nbias: -0.11</title></rect><text fill=\"#202020\" font-family=\"monospace\" font-size=\"11\" text-anchor=\"middle\" x=\"161.0\" y=\"264.0\">linear</text><line stroke=\"#c0c0c0\" x1=\"81\" x2=\"121\" y1=\"260.0\" y2=\"260.0\"/><text fill=\"#202020\" font-family=\"monospace\" font-size=\"7\" text-anchor=\"middle\" x=\"126\" y=\"263.0\">x0</text><rect fill=\"#FAFAFA\" height=\"30\" stroke=\"#ff1ec8\" stroke-width=\"1\" width=\"80\" x=\"121\" y=\"305.0\"><title>(10, 1, 1)\nw0: -0.21\nw1: 0.09\nbias: 0.25</title></rect><text fill=\"#202020\" font-family=\"monospace\" font-size=\"11\" text-anchor=\"middle\" x=\"161.0\" y=\"324.0\">linear</text><line stroke=\"#c0c0c0\" x1=\"81\" x2=\"121\" y1=\"380.0\" y2=\"329.0\"/><text fill=\"#202020\" font-family=\"monospace\" font-size=\"7\" text-anchor=\"middle\" x=\"126\" y=\"332.0\">x0</text><line stroke=\"#c0c0c0\" x1=\"81\" x2=\"121\" y1=\"320.0\" y2=\"311.0\"/><text fill=\"#202020\" font-family=\"monospace\" font-size=\"7\" text-anchor=\"middle\" x=\"126\" y=\"314.0\">x1</text><rect fill=\"#FAFAFA\" height=\"30\" stroke=\"#ff1ec8\" stroke-width=\"1\" width=\"80\" x=\"241\" y=\"125.0\"><title>(11, 1, 3)\nx0: -0.13\nk: 9.58</title></rect><text fill=\"#202020\" font-family=\"monospace\" font-size=\"11\" text-anchor=\"middle\" x=\"281.0\" y=\"144.0\">sine</text><line stroke=\"#c0c0c0\" x1=\"201\" x2=\"241\" y1=\"80.0\" y2=\"140.0\"/><text fill=\"#202020\" font-family=\"monospace\" font-size=\"7\" text-anchor=\"middle\" x=\"246\" y=\"143.0\">x0</text><rect fill=\"#FAFAFA\" height=\"30\" stroke=\"#ff1ec8\" stroke-width=\"1\" width=\"80\" x=\"241\" y=\"185.0\"><title>(11, 1, 4)\nw0: 1.82\nw1: 0.02\nbias: -0.30</title></rect><text fill=\"#202020\" font-family=\"monospace\" font-size=\"11\" text-anchor=\"middle\" x=\"281.0\" y=\"204.0\">tanh</text><line stroke=\"#c0c0c0\" x1=\"201\" x2=\"241\" y1=\"200.0\" y2=\"209.0\"/><text fill=\"#202020\" font-family=\"monospace\" font-size=\"7\" text-anchor=\"middle\" x=\"246\" y=\"212.0\">x0</text><line stroke=\"#c0c0c0\" x1=\"201\" x2=\"241\" y1=\"140.0\" y2=\"191.0\"/><text fill=\"#202020\" font-family=\"monospace\" font-size=\"7\" text-anchor=\"middle\" x=\"246\" y=\"194.0\">x1</text><rect fill=\"#FAFAFA\" height=\"30\" stroke=\"#ff1ec8\" stroke-width=\"1\" width=\"80\" x=\"241\" y=\"245.0\"><title>(11, 0, 2)\ncenter: 0.91, 0.98\nwidth: 0.38, 0.44</title></rect><text fill=\"#202020\" font-family=\"monospace\" font-size=\"11\" text-anchor=\"middle\" x=\"281.0\" y=\"264.0\">gaussian</text><line stroke=\"#c0c0c0\" x1=\"201\" x2=\"241\" y1=\"320.0\" y2=\"269.0\"/><text fill=\"#202020\" font-family=\"monospace\" font-size=\"7\" text-anchor=\"middle\" x=\"246\" y=\"272.0\">x0</text><line stroke=\"#c0c0c0\" x1=\"201\" x2=\"241\" y1=\"260.0\" y2=\"251.0\"/><text fill=\"#202020\" font-family=\"monospace\" font-size=\"7\" text-anchor=\"middle\" x=\"246\" y=\"254.0\">x1</text><rect fill=\"#FAFAFA\" height=\"30\" stroke=\"#ff1ec8\" stroke-width=\"1\" width=\"80\" x=\"361\" y=\"155.0\"><title>(12, 0, 3)\ncenter: 0.36, 0.17\nwidth: 0.21, 0.25</title></rect><text fill=\"#202020\" font-family=\"monospace\" font-size=\"11\" text-anchor=\"middle\" x=\"401.0\" y=\"174.0\">gaussian</text><line stroke=\"#c0c0c0\" x1=\"321\" x2=\"361\" y1=\"200.0\" y2=\"179.0\"/><text fill=\"#202020\" font-family=\"monospace\" font-size=\"7\" text-anchor=\"middle\" x=\"366\" y=\"182.0\">x0</text><line stroke=\"#c0c0c0\" x1=\"321\" x2=\"361\" y1=\"140.0\" y2=\"161.0\"/><text fill=\"#202020\" font-family=\"monospace\" font-size=\"7\" text-anchor=\"middle\" x=\"366\" y=\"164.0\">x1</text><rect fill=\"#FAFAFA\" height=\"30\" stroke=\"#ff1ec8\" stroke-width=\"1\" width=\"80\" x=\"361\" y=\"215.0\"><title>(12, 19, 2)\nw: -5.30\nbias: -0.44</title></rect><text fill=\"#202020\" font-family=\"monospace\" font-size=\"11\" text-anchor=\"middle\" x=\"401.0\" y=\"234.0\">linear</text><line stroke=\"#c0c0c0\" x1=\"321\" x2=\"361\" y1=\"260.0\" y2=\"230.0\"/><text fill=\"#202020\" font-family=\"monospace\" font-size=\"7\" text-anchor=\"middle\" x=\"366\" y=\"233.0\">x0</text><rect fill=\"#FAFAFA\" height=\"30\" stroke=\"#ff1ec8\" stroke-width=\"1\" width=\"80\" x=\"481\" y=\"185.0\"><title>(13, 0, 1)\nw0: -6.57\nw1: -5.83\nbias: -0.65</title></rect><text fill=\"#202020\" font-family=\"monospace\" font-size=\"11\" text-anchor=\"middle\" x=\"521.0\" y=\"204.0\">tanh</text><line stroke=\"#c0c0c0\" x1=\"441\" x2=\"481\" y1=\"230.0\" y2=\"209.0\"/><text fill=\"#202020\" font-family=\"monospace\" font-size=\"7\" text-anchor=\"middle\" x=\"486\" y=\"212.0\">x0</text><line stroke=\"#c0c0c0\" x1=\"441\" x2=\"481\" y1=\"170.0\" y2=\"191.0\"/><text fill=\"#202020\" font-family=\"monospace\" font-size=\"7\" text-anchor=\"middle\" x=\"486\" y=\"194.0\">x1</text><rect fill=\"#00F082\" height=\"30\" stroke=\"#808080\" stroke-width=\"1\" width=\"80\" x=\"601\" y=\"185.0\"><title>(14, 19, 0)\nw: 0.5049\nbias: 0.5015</title></rect><text fill=\"#202020\" font-family=\"monospace\" font-size=\"11\" text-anchor=\"middle\" x=\"641.0\" y=\"204.0\">Class</text><line stroke=\"#c0c0c0\" x1=\"561\" x2=\"601\" y1=\"200.0\" y2=\"200.0\"/><text fill=\"#202020\" font-family=\"monospace\" font-size=\"7\" text-anchor=\"middle\" x=\"606\" y=\"203.0\">x0</text><text fill=\"#202020\" font-family=\"monospace\" font-size=\"12\" x=\"0\" y=\"423.0\">Fitting 8: 100% completed. Best loss so far: 0.000373</text><text fill=\"#202020\" font-family=\"monospace\" font-size=\"11\" text-anchor=\"middle\" x=\"641.0\" y=\"227.0\">Loss: 3.73E-04</text></svg>"
          },
          "metadata": {
            "tags": []
          }
        },
        {
          "output_type": "stream",
          "text": [
            "Confusion matrix(test):\n",
            "[[21712    14]\n",
            " [   30   449]]\n",
            "Accuracy 0.9980184643098401\n",
            "Precision 0.9697624190064795\n",
            "Recall 0.9373695198329853\n"
          ],
          "name": "stdout"
        }
      ]
    },
    {
      "cell_type": "markdown",
      "metadata": {
        "id": "yA6LkThDOLzE"
      },
      "source": [
        "#QLattice"
      ]
    },
    {
      "cell_type": "code",
      "metadata": {
        "id": "XfSX-6Kj-_KR",
        "outputId": "4b30dda6-522e-417c-9ec8-c291e7b8ed6f",
        "colab": {
          "base_uri": "https://localhost:8080/",
          "height": 535
        }
      },
      "source": [
        "# url = \"<URL to your qlattice>\", api_token=\"<Your API token>\"\n",
        "ql = feyn.QLattice(url=\"https://qlattice.abzu.ai/qlattice-5ee40fc0\",\n",
        "                   api_token=\"1132a32ab0ef4b3e8cb6fa4fa4616c91\")\n",
        "\n",
        "ql.reset()\n",
        "\n",
        "target = 'Class'\n",
        "\n",
        "qgraph = ql.get_qgraph(train.columns, target, max_depth=4, stypes=types) \n",
        "# qgraph.head(3)\n",
        "\n",
        "\n",
        "# Defining the number of loops/updates and epochs\n",
        "nloops = 1\n",
        "nepochs = 2\n",
        "\n",
        "# And training finally begins\n",
        "for _epoch in range(nepochs):\n",
        "    for loop in range(nloops): \n",
        "        qgraph.fit(train, \n",
        "                  loss_function='squared_error', \n",
        "                  threads=8, show='graph') \n",
        "        _train = resample(train, \n",
        "                replace=False,    # sample without replacement\n",
        "                n_samples=5000,     # to match minority class\n",
        "                random_state=123) # reproducible results\n",
        "\n",
        "        best = qgraph.sort(_train, loss_function='squared_error')[0] \n",
        "        \n",
        "        ql.update(best) \n",
        "\n",
        "qgraph.head(1)\n"
      ],
      "execution_count": 23,
      "outputs": [
        {
          "output_type": "display_data",
          "data": {
            "text/plain": [
              "<IPython.core.display.SVG object>"
            ],
            "image/svg+xml": "<svg baseProfile=\"tiny\" height=\"255.0\" version=\"1.2\" width=\"691\" xmlns=\"http://www.w3.org/2000/svg\" xmlns:ev=\"http://www.w3.org/2001/xml-events\" xmlns:xlink=\"http://www.w3.org/1999/xlink\"><defs/><rect fill=\"#00F082\" height=\"30\" stroke=\"#808080\" stroke-width=\"1\" width=\"80\" x=\"1\" y=\"35.0\"><title>(2, -1, -1)\nflag\ncategorical with 8 values</title></rect><text fill=\"#202020\" font-family=\"monospace\" font-size=\"11\" text-anchor=\"middle\" x=\"41.0\" y=\"54.0\">flag</text><rect fill=\"#00F082\" height=\"30\" stroke=\"#808080\" stroke-width=\"1\" width=\"80\" x=\"1\" y=\"95.0\"><title>(3, -1, -1)\nw: 0.0000\nbias: -1.0000</title></rect><text fill=\"#202020\" font-family=\"monospace\" font-size=\"11\" text-anchor=\"middle\" x=\"41.0\" y=\"114.0\">src_bytes</text><rect fill=\"#00F082\" height=\"30\" stroke=\"#808080\" stroke-width=\"1\" width=\"80\" x=\"1\" y=\"155.0\"><title>(28, -1, -1)\nw: 2.0000\nbias: -1.0000</title></rect><text fill=\"#202020\" font-family=\"monospace\" font-size=\"11\" text-anchor=\"middle\" x=\"41.0\" y=\"174.0\">dst_host_s..</text><rect fill=\"#FAFAFA\" height=\"30\" stroke=\"#ff1ec8\" stroke-width=\"1\" width=\"80\" x=\"121\" y=\"5.0\"><title>(16, 7, 2)\nw: -3.59\nbias: -0.30</title></rect><text fill=\"#202020\" font-family=\"monospace\" font-size=\"11\" text-anchor=\"middle\" x=\"161.0\" y=\"24.0\">tanh</text><line stroke=\"#c0c0c0\" x1=\"81\" x2=\"121\" y1=\"50.0\" y2=\"20.0\"/><text fill=\"#202020\" font-family=\"monospace\" font-size=\"7\" text-anchor=\"middle\" x=\"126\" y=\"23.0\">x0</text><rect fill=\"#FAFAFA\" height=\"30\" stroke=\"#ff1ec8\" stroke-width=\"1\" width=\"80\" x=\"121\" y=\"65.0\"><title>(16, 5, 1)\nw: 2.64\nbias: 3.16</title></rect><text fill=\"#202020\" font-family=\"monospace\" font-size=\"11\" text-anchor=\"middle\" x=\"161.0\" y=\"84.0\">tanh</text><line stroke=\"#c0c0c0\" x1=\"81\" x2=\"121\" y1=\"110.0\" y2=\"80.0\"/><text fill=\"#202020\" font-family=\"monospace\" font-size=\"7\" text-anchor=\"middle\" x=\"126\" y=\"83.0\">x0</text><rect fill=\"#00F082\" height=\"30\" stroke=\"#808080\" stroke-width=\"1\" width=\"80\" x=\"121\" y=\"125.0\"><title>(24, -1, -1)\nw: 2.0000\nbias: -1.0000</title></rect><text fill=\"#202020\" font-family=\"monospace\" font-size=\"11\" text-anchor=\"middle\" x=\"161.0\" y=\"144.0\">dst_host_s..</text><rect fill=\"#FAFAFA\" height=\"30\" stroke=\"#ff1ec8\" stroke-width=\"1\" width=\"80\" x=\"121\" y=\"185.0\"><title>(16, 4, 7)\nw: -5.74\nbias: 1.93</title></rect><text fill=\"#202020\" font-family=\"monospace\" font-size=\"11\" text-anchor=\"middle\" x=\"161.0\" y=\"204.0\">tanh</text><line stroke=\"#c0c0c0\" x1=\"81\" x2=\"121\" y1=\"170.0\" y2=\"200.0\"/><text fill=\"#202020\" font-family=\"monospace\" font-size=\"7\" text-anchor=\"middle\" x=\"126\" y=\"203.0\">x0</text><rect fill=\"#FAFAFA\" height=\"30\" stroke=\"#ff1ec8\" stroke-width=\"1\" width=\"80\" x=\"241\" y=\"65.0\"><title>(17, 6, 2)\ncenter: 0.37, 0.19\nwidth: 0.25, 0.37</title></rect><text fill=\"#202020\" font-family=\"monospace\" font-size=\"11\" text-anchor=\"middle\" x=\"281.0\" y=\"84.0\">gaussian</text><line stroke=\"#c0c0c0\" x1=\"201\" x2=\"241\" y1=\"80.0\" y2=\"89.0\"/><text fill=\"#202020\" font-family=\"monospace\" font-size=\"7\" text-anchor=\"middle\" x=\"246\" y=\"92.0\">x0</text><line stroke=\"#c0c0c0\" x1=\"201\" x2=\"241\" y1=\"20.0\" y2=\"71.0\"/><text fill=\"#202020\" font-family=\"monospace\" font-size=\"7\" text-anchor=\"middle\" x=\"246\" y=\"74.0\">x1</text><rect fill=\"#FAFAFA\" height=\"30\" stroke=\"#ff1ec8\" stroke-width=\"1\" width=\"80\" x=\"241\" y=\"125.0\"><title>(17, 4, 7)\ncell:multiply(i,i)-&gt;i</title></rect><text fill=\"#202020\" font-family=\"monospace\" font-size=\"11\" text-anchor=\"middle\" x=\"281.0\" y=\"144.0\">multiply</text><line stroke=\"#c0c0c0\" x1=\"201\" x2=\"241\" y1=\"200.0\" y2=\"149.0\"/><text fill=\"#202020\" font-family=\"monospace\" font-size=\"7\" text-anchor=\"middle\" x=\"246\" y=\"152.0\">x0</text><line stroke=\"#c0c0c0\" x1=\"201\" x2=\"241\" y1=\"140.0\" y2=\"131.0\"/><text fill=\"#202020\" font-family=\"monospace\" font-size=\"7\" text-anchor=\"middle\" x=\"246\" y=\"134.0\">x1</text><rect fill=\"#FAFAFA\" height=\"30\" stroke=\"#ff1ec8\" stroke-width=\"1\" width=\"80\" x=\"361\" y=\"95.0\"><title>(18, 5, 0)\nw0: 0.88\nw1: -2.22\nbias: 0.05</title></rect><text fill=\"#202020\" font-family=\"monospace\" font-size=\"11\" text-anchor=\"middle\" x=\"401.0\" y=\"114.0\">linear</text><line stroke=\"#c0c0c0\" x1=\"321\" x2=\"361\" y1=\"140.0\" y2=\"119.0\"/><text fill=\"#202020\" font-family=\"monospace\" font-size=\"7\" text-anchor=\"middle\" x=\"366\" y=\"122.0\">x0</text><line stroke=\"#c0c0c0\" x1=\"321\" x2=\"361\" y1=\"80.0\" y2=\"101.0\"/><text fill=\"#202020\" font-family=\"monospace\" font-size=\"7\" text-anchor=\"middle\" x=\"366\" y=\"104.0\">x1</text><rect fill=\"#FAFAFA\" height=\"30\" stroke=\"#ff1ec8\" stroke-width=\"1\" width=\"80\" x=\"481\" y=\"95.0\"><title>(19, 4, 1)\nw: 4.91\nbias: 0.24</title></rect><text fill=\"#202020\" font-family=\"monospace\" font-size=\"11\" text-anchor=\"middle\" x=\"521.0\" y=\"114.0\">tanh</text><line stroke=\"#c0c0c0\" x1=\"441\" x2=\"481\" y1=\"110.0\" y2=\"110.0\"/><text fill=\"#202020\" font-family=\"monospace\" font-size=\"7\" text-anchor=\"middle\" x=\"486\" y=\"113.0\">x0</text><rect fill=\"#00F082\" height=\"30\" stroke=\"#808080\" stroke-width=\"1\" width=\"80\" x=\"601\" y=\"95.0\"><title>(0, 4, 2)\nw: 0.5055\nbias: 0.5053</title></rect><text fill=\"#202020\" font-family=\"monospace\" font-size=\"11\" text-anchor=\"middle\" x=\"641.0\" y=\"114.0\">Class</text><line stroke=\"#c0c0c0\" x1=\"561\" x2=\"601\" y1=\"110.0\" y2=\"110.0\"/><text fill=\"#202020\" font-family=\"monospace\" font-size=\"7\" text-anchor=\"middle\" x=\"606\" y=\"113.0\">x0</text><text fill=\"#202020\" font-family=\"monospace\" font-size=\"12\" x=\"0\" y=\"243.0\">Fitting 2: 100% completed. Best loss so far: 0.000463</text><text fill=\"#202020\" font-family=\"monospace\" font-size=\"11\" text-anchor=\"middle\" x=\"641.0\" y=\"137.0\">Loss: 4.63E-04</text></svg>"
          },
          "metadata": {
            "tags": []
          }
        },
        {
          "output_type": "display_data",
          "data": {
            "text/plain": [
              "_feyn.Graph (12 interactions)"
            ],
            "image/svg+xml": "<?xml version=\"1.0\" encoding=\"utf-8\" ?>\n<svg baseProfile=\"tiny\" height=\"255.0\" version=\"1.2\" width=\"691\" xmlns=\"http://www.w3.org/2000/svg\" xmlns:ev=\"http://www.w3.org/2001/xml-events\" xmlns:xlink=\"http://www.w3.org/1999/xlink\"><defs /><rect fill=\"#00F082\" height=\"30\" stroke=\"#808080\" stroke-width=\"1\" width=\"80\" x=\"1\" y=\"35.0\"><title>(2, -1, -1)\nflag\ncategorical with 8 values</title></rect><text fill=\"#202020\" font-family=\"monospace\" font-size=\"11\" text-anchor=\"middle\" x=\"41.0\" y=\"54.0\">flag</text><rect fill=\"#00F082\" height=\"30\" stroke=\"#808080\" stroke-width=\"1\" width=\"80\" x=\"1\" y=\"95.0\"><title>(3, -1, -1)\nw: 0.0000\nbias: -1.0000</title></rect><text fill=\"#202020\" font-family=\"monospace\" font-size=\"11\" text-anchor=\"middle\" x=\"41.0\" y=\"114.0\">src_bytes</text><rect fill=\"#00F082\" height=\"30\" stroke=\"#808080\" stroke-width=\"1\" width=\"80\" x=\"1\" y=\"155.0\"><title>(28, -1, -1)\nw: 2.0000\nbias: -1.0000</title></rect><text fill=\"#202020\" font-family=\"monospace\" font-size=\"11\" text-anchor=\"middle\" x=\"41.0\" y=\"174.0\">dst_host_s..</text><rect fill=\"#FAFAFA\" height=\"30\" stroke=\"#ff1ec8\" stroke-width=\"1\" width=\"80\" x=\"121\" y=\"5.0\"><title>(16, 7, 2)\nw: -7.23\nbias: 1.15</title></rect><text fill=\"#202020\" font-family=\"monospace\" font-size=\"11\" text-anchor=\"middle\" x=\"161.0\" y=\"24.0\">tanh</text><line stroke=\"#c0c0c0\" x1=\"81\" x2=\"121\" y1=\"50.0\" y2=\"20.0\" /><text fill=\"#202020\" font-family=\"monospace\" font-size=\"7\" text-anchor=\"middle\" x=\"126\" y=\"23.0\">x0</text><rect fill=\"#FAFAFA\" height=\"30\" stroke=\"#ff1ec8\" stroke-width=\"1\" width=\"80\" x=\"121\" y=\"65.0\"><title>(16, 5, 1)\nw: -1.89\nbias: 0.04</title></rect><text fill=\"#202020\" font-family=\"monospace\" font-size=\"11\" text-anchor=\"middle\" x=\"161.0\" y=\"84.0\">tanh</text><line stroke=\"#c0c0c0\" x1=\"81\" x2=\"121\" y1=\"110.0\" y2=\"80.0\" /><text fill=\"#202020\" font-family=\"monospace\" font-size=\"7\" text-anchor=\"middle\" x=\"126\" y=\"83.0\">x0</text><rect fill=\"#00F082\" height=\"30\" stroke=\"#808080\" stroke-width=\"1\" width=\"80\" x=\"121\" y=\"125.0\"><title>(24, -1, -1)\nw: 2.0000\nbias: -1.0000</title></rect><text fill=\"#202020\" font-family=\"monospace\" font-size=\"11\" text-anchor=\"middle\" x=\"161.0\" y=\"144.0\">dst_host_s..</text><rect fill=\"#FAFAFA\" height=\"30\" stroke=\"#ff1ec8\" stroke-width=\"1\" width=\"80\" x=\"121\" y=\"185.0\"><title>(16, 4, 7)\nw: 3.44\nbias: 3.42</title></rect><text fill=\"#202020\" font-family=\"monospace\" font-size=\"11\" text-anchor=\"middle\" x=\"161.0\" y=\"204.0\">tanh</text><line stroke=\"#c0c0c0\" x1=\"81\" x2=\"121\" y1=\"170.0\" y2=\"200.0\" /><text fill=\"#202020\" font-family=\"monospace\" font-size=\"7\" text-anchor=\"middle\" x=\"126\" y=\"203.0\">x0</text><rect fill=\"#FAFAFA\" height=\"30\" stroke=\"#ff1ec8\" stroke-width=\"1\" width=\"80\" x=\"241\" y=\"65.0\"><title>(17, 6, 2)\ncenter: 0.21, 0.55\nwidth: 0.22, 0.47</title></rect><text fill=\"#202020\" font-family=\"monospace\" font-size=\"11\" text-anchor=\"middle\" x=\"281.0\" y=\"84.0\">gaussian</text><line stroke=\"#c0c0c0\" x1=\"201\" x2=\"241\" y1=\"80.0\" y2=\"89.0\" /><text fill=\"#202020\" font-family=\"monospace\" font-size=\"7\" text-anchor=\"middle\" x=\"246\" y=\"92.0\">x0</text><line stroke=\"#c0c0c0\" x1=\"201\" x2=\"241\" y1=\"20.0\" y2=\"71.0\" /><text fill=\"#202020\" font-family=\"monospace\" font-size=\"7\" text-anchor=\"middle\" x=\"246\" y=\"74.0\">x1</text><rect fill=\"#FAFAFA\" height=\"30\" stroke=\"#ff1ec8\" stroke-width=\"1\" width=\"80\" x=\"241\" y=\"125.0\"><title>(17, 4, 7)\ncell:multiply(i,i)-&gt;i</title></rect><text fill=\"#202020\" font-family=\"monospace\" font-size=\"11\" text-anchor=\"middle\" x=\"281.0\" y=\"144.0\">multiply</text><line stroke=\"#c0c0c0\" x1=\"201\" x2=\"241\" y1=\"200.0\" y2=\"149.0\" /><text fill=\"#202020\" font-family=\"monospace\" font-size=\"7\" text-anchor=\"middle\" x=\"246\" y=\"152.0\">x0</text><line stroke=\"#c0c0c0\" x1=\"201\" x2=\"241\" y1=\"140.0\" y2=\"131.0\" /><text fill=\"#202020\" font-family=\"monospace\" font-size=\"7\" text-anchor=\"middle\" x=\"246\" y=\"134.0\">x1</text><rect fill=\"#FAFAFA\" height=\"30\" stroke=\"#ff1ec8\" stroke-width=\"1\" width=\"80\" x=\"361\" y=\"95.0\"><title>(18, 5, 0)\nw0: 0.25\nw1: -5.01\nbias: -0.06</title></rect><text fill=\"#202020\" font-family=\"monospace\" font-size=\"11\" text-anchor=\"middle\" x=\"401.0\" y=\"114.0\">linear</text><line stroke=\"#c0c0c0\" x1=\"321\" x2=\"361\" y1=\"140.0\" y2=\"119.0\" /><text fill=\"#202020\" font-family=\"monospace\" font-size=\"7\" text-anchor=\"middle\" x=\"366\" y=\"122.0\">x0</text><line stroke=\"#c0c0c0\" x1=\"321\" x2=\"361\" y1=\"80.0\" y2=\"101.0\" /><text fill=\"#202020\" font-family=\"monospace\" font-size=\"7\" text-anchor=\"middle\" x=\"366\" y=\"104.0\">x1</text><rect fill=\"#FAFAFA\" height=\"30\" stroke=\"#ff1ec8\" stroke-width=\"1\" width=\"80\" x=\"481\" y=\"95.0\"><title>(19, 6, 0)\nx0: -0.13\nk: 5.41</title></rect><text fill=\"#202020\" font-family=\"monospace\" font-size=\"11\" text-anchor=\"middle\" x=\"521.0\" y=\"114.0\">sine</text><line stroke=\"#c0c0c0\" x1=\"441\" x2=\"481\" y1=\"110.0\" y2=\"110.0\" /><text fill=\"#202020\" font-family=\"monospace\" font-size=\"7\" text-anchor=\"middle\" x=\"486\" y=\"113.0\">x0</text><rect fill=\"#00F082\" height=\"30\" stroke=\"#808080\" stroke-width=\"1\" width=\"80\" x=\"601\" y=\"95.0\"><title>(0, 6, 0)\nw: 0.5369\nbias: 0.4991</title></rect><text fill=\"#202020\" font-family=\"monospace\" font-size=\"11\" text-anchor=\"middle\" x=\"641.0\" y=\"114.0\">Class</text><line stroke=\"#c0c0c0\" x1=\"561\" x2=\"601\" y1=\"110.0\" y2=\"110.0\" /><text fill=\"#202020\" font-family=\"monospace\" font-size=\"7\" text-anchor=\"middle\" x=\"606\" y=\"113.0\">x0</text><text fill=\"#202020\" font-family=\"monospace\" font-size=\"11\" text-anchor=\"middle\" x=\"641.0\" y=\"137.0\">Loss: 6.17E-04</text></svg>"
          },
          "metadata": {
            "tags": []
          }
        }
      ]
    },
    {
      "cell_type": "code",
      "metadata": {
        "id": "W45QsTFMYujy",
        "outputId": "2b348102-27b5-4c19-8963-935831919ff8",
        "colab": {
          "base_uri": "https://localhost:8080/",
          "height": 126
        }
      },
      "source": [
        "best = qgraph.sort(_train, loss_function='squared_error')[0]\n",
        "\n",
        "res_Class = best.predict(test)\n",
        "\n",
        "threshold = 0.5\n",
        "y_pred = np.where(res_Class > threshold, True, False)\n",
        "y_true = test[target].astype(bool)\n",
        "\n",
        "tn, fp, fn, tp = confusion_matrix(y_true, y_pred).ravel()\n",
        "Accuracy = (tp + tn) / (tp + fp + fn + tn)\n",
        "ACC = Accuracy\n",
        "print('Confusion matrix(test):\\n{}'.format(confusion_matrix(y_true, y_pred)))\n",
        "print(\"Accuracy\", ACC)\n",
        "Precision = tp/(tp+fp)\n",
        "print(\"Precision\", Precision)\n",
        "Recall = tp/(tp+fn)\n",
        "print(\"Recall\",Recall)"
      ],
      "execution_count": 24,
      "outputs": [
        {
          "output_type": "stream",
          "text": [
            "Confusion matrix(test):\n",
            "[[21716    10]\n",
            " [  119   360]]\n",
            "Accuracy 0.9941904976356677\n",
            "Precision 0.972972972972973\n",
            "Recall 0.7515657620041754\n"
          ],
          "name": "stdout"
        }
      ]
    }
  ]
}
